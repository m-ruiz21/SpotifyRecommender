{
 "cells": [
  {
   "cell_type": "code",
   "execution_count": 1,
   "metadata": {},
   "outputs": [
    {
     "name": "stderr",
     "output_type": "stream",
     "text": [
      "Since the GPL-licensed package `unidecode` is not installed, using Python's `unicodedata` package which yields worse results.\n"
     ]
    }
   ],
   "source": [
    "import pandas as pd\n",
    "from cleantext import clean"
   ]
  },
  {
   "cell_type": "code",
   "execution_count": 56,
   "metadata": {},
   "outputs": [],
   "source": [
    "# get data\n",
    "df = pd.read_csv('../data/playlist_features.csv', index_col='idx',na_values=[' ', ''])"
   ]
  },
  {
   "cell_type": "code",
   "execution_count": 58,
   "metadata": {},
   "outputs": [
    {
     "name": "stdout",
     "output_type": "stream",
     "text": [
      "id                  37i9dQZF1DX72Zxs6RduBK\n",
      "name                           ดิสนีย์ ฮิต\n",
      "acousticness                      0.510773\n",
      "danceability                      0.520173\n",
      "duration_ms                  188524.293333\n",
      "energy                            0.471427\n",
      "instrumentalness                  0.000278\n",
      "key                               4.506667\n",
      "liveness                          0.169387\n",
      "loudness                         -9.774133\n",
      "mode                              0.813333\n",
      "speechiness                       0.075499\n",
      "tempo                           117.480133\n",
      "time_signature                    3.933333\n",
      "valence                           0.435588\n",
      "Name: 2057, dtype: object\n",
      "ดิสนีย์ ฮิต\n"
     ]
    }
   ],
   "source": [
    "# get rid of empty names\n",
    "\n",
    "print(df.loc[2057])\n",
    "print(df.loc[2057]['name'])\n",
    "\n",
    "NON_EXISTANT_NAME = \"30093043\"\n",
    "for index, row in df.iterrows():\n",
    "    name = row['name'] \n",
    "    if name == NON_EXISTANT_NUM: \n",
    "        print(f\"dropping {index}\")\n",
    "        df.drop(index, inplace=True)"
   ]
  },
  {
   "cell_type": "code",
   "execution_count": 5,
   "metadata": {},
   "outputs": [],
   "source": [
    "# clean names\n",
    "for index, row in df.iterrows():\n",
    "    name = row['name']\n",
    "    name = clean(name, lower=True, no_emoji=True)\n",
    "    df.at[index, 'name'] = name"
   ]
  },
  {
   "cell_type": "code",
   "execution_count": 6,
   "metadata": {},
   "outputs": [],
   "source": [
    "df.to_csv('../data/playlist_features_filtered.csv', index=False)"
   ]
  }
 ],
 "metadata": {
  "kernelspec": {
   "display_name": "env",
   "language": "python",
   "name": "python3"
  },
  "language_info": {
   "codemirror_mode": {
    "name": "ipython",
    "version": 3
   },
   "file_extension": ".py",
   "mimetype": "text/x-python",
   "name": "python",
   "nbconvert_exporter": "python",
   "pygments_lexer": "ipython3",
   "version": "3.12.0"
  }
 },
 "nbformat": 4,
 "nbformat_minor": 2
}
