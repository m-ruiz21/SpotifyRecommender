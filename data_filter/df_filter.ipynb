{
 "cells": [
  {
   "cell_type": "code",
   "execution_count": 83,
   "metadata": {},
   "outputs": [],
   "source": [
    "import pandas as pd\n",
    "from cleantext import clean"
   ]
  },
  {
   "cell_type": "code",
   "execution_count": 84,
   "metadata": {},
   "outputs": [],
   "source": [
    "# get data\n",
    "df = pd.read_csv('../data/playlist_features.csv', index_col='idx',na_values=[' ', ''])"
   ]
  },
  {
   "cell_type": "code",
   "execution_count": 85,
   "metadata": {},
   "outputs": [],
   "source": [
    "# clean names\n",
    "for index, row in df.iterrows():\n",
    "    name = row['name']\n",
    "    name = clean(name, lower=True, no_emoji=True)\n",
    "    df.at[index, 'name'] = name"
   ]
  },
  {
   "cell_type": "code",
   "execution_count": 88,
   "metadata": {},
   "outputs": [],
   "source": [
    "# get rid of empty names\n",
    "\n",
    "for index, row in df.iterrows():\n",
    "    name = row['name'] \n",
    "    if not name or pd.isnull(name) or name == 'nan': \n",
    "        df.drop(index, inplace=True)"
   ]
  },
  {
   "cell_type": "code",
   "execution_count": 82,
   "metadata": {},
   "outputs": [],
   "source": [
    "# write to CSV and correct index since we eliminated some rows\n",
    "df.reset_index(drop=True, inplace=True)\n",
    "df.to_csv('../data/playlist_features_filtered.csv')"
   ]
  }
 ],
 "metadata": {
  "kernelspec": {
   "display_name": "env",
   "language": "python",
   "name": "python3"
  },
  "language_info": {
   "codemirror_mode": {
    "name": "ipython",
    "version": 3
   },
   "file_extension": ".py",
   "mimetype": "text/x-python",
   "name": "python",
   "nbconvert_exporter": "python",
   "pygments_lexer": "ipython3",
   "version": "3.12.0"
  }
 },
 "nbformat": 4,
 "nbformat_minor": 2
}
