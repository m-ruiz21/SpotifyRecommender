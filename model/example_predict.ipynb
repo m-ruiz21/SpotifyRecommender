{
 "cells": [
  {
   "cell_type": "code",
   "execution_count": 3,
   "metadata": {},
   "outputs": [],
   "source": [
    "import torch\n",
    "from transformers import BertTokenizer\n",
    "from BertRegressor import BertRegressor"
   ]
  },
  {
   "cell_type": "code",
   "execution_count": 4,
   "metadata": {},
   "outputs": [
    {
     "data": {
      "text/plain": [
       "BertRegressor(\n",
       "  (bert): BertModel(\n",
       "    (embeddings): BertEmbeddings(\n",
       "      (word_embeddings): Embedding(30522, 768, padding_idx=0)\n",
       "      (position_embeddings): Embedding(512, 768)\n",
       "      (token_type_embeddings): Embedding(2, 768)\n",
       "      (LayerNorm): LayerNorm((768,), eps=1e-12, elementwise_affine=True)\n",
       "      (dropout): Dropout(p=0.1, inplace=False)\n",
       "    )\n",
       "    (encoder): BertEncoder(\n",
       "      (layer): ModuleList(\n",
       "        (0-11): 12 x BertLayer(\n",
       "          (attention): BertAttention(\n",
       "            (self): BertSelfAttention(\n",
       "              (query): Linear(in_features=768, out_features=768, bias=True)\n",
       "              (key): Linear(in_features=768, out_features=768, bias=True)\n",
       "              (value): Linear(in_features=768, out_features=768, bias=True)\n",
       "              (dropout): Dropout(p=0.1, inplace=False)\n",
       "            )\n",
       "            (output): BertSelfOutput(\n",
       "              (dense): Linear(in_features=768, out_features=768, bias=True)\n",
       "              (LayerNorm): LayerNorm((768,), eps=1e-12, elementwise_affine=True)\n",
       "              (dropout): Dropout(p=0.1, inplace=False)\n",
       "            )\n",
       "          )\n",
       "          (intermediate): BertIntermediate(\n",
       "            (dense): Linear(in_features=768, out_features=3072, bias=True)\n",
       "            (intermediate_act_fn): GELUActivation()\n",
       "          )\n",
       "          (output): BertOutput(\n",
       "            (dense): Linear(in_features=3072, out_features=768, bias=True)\n",
       "            (LayerNorm): LayerNorm((768,), eps=1e-12, elementwise_affine=True)\n",
       "            (dropout): Dropout(p=0.1, inplace=False)\n",
       "          )\n",
       "        )\n",
       "      )\n",
       "    )\n",
       "    (pooler): BertPooler(\n",
       "      (dense): Linear(in_features=768, out_features=768, bias=True)\n",
       "      (activation): Tanh()\n",
       "    )\n",
       "  )\n",
       "  (regressor): Sequential(\n",
       "    (0): Dropout(p=0.2, inplace=False)\n",
       "    (1): Linear(in_features=768, out_features=13, bias=True)\n",
       "  )\n",
       ")"
      ]
     },
     "execution_count": 4,
     "metadata": {},
     "output_type": "execute_result"
    }
   ],
   "source": [
    "# Define the model architecture and load the trained weights\n",
    "\n",
    "model = BertRegressor()\n",
    "model.load_state_dict(torch.load('bert_model.pt'))\n",
    "model.eval()"
   ]
  },
  {
   "cell_type": "code",
   "execution_count": 5,
   "metadata": {},
   "outputs": [],
   "source": [
    "# Load the tokenizer and tokenize the input text\n",
    "\n",
    "tokenizer = BertTokenizer.from_pretrained('bert-base-uncased')\n",
    "\n",
    "playlist_name = \"chill rab mix\"\n",
    "encoded_playlist_name = tokenizer(text = playlist_name, \n",
    "                           add_special_tokens=True,\n",
    "                           padding = 'max_length',\n",
    "                           truncation = 'longest_first',\n",
    "                           max_length = 300,\n",
    "                           return_attention_mask = True)\n",
    "\n",
    "input_ids = encoded_playlist_name['input_ids']\n",
    "attention_masks = encoded_playlist_name['attention_mask']"
   ]
  },
  {
   "cell_type": "code",
   "execution_count": 9,
   "metadata": {},
   "outputs": [
    {
     "name": "stdout",
     "output_type": "stream",
     "text": [
      "using device: cuda\n",
      "predicted playlist score: [[0.2946215569972992, 0.515164852142334, -0.07495331764221191, -0.3546474575996399, -0.15018747746944427, 0.04391321539878845, -0.406247079372406, 0.1349208652973175, -1.0565917491912842, 0.21842052042484283, -0.7120060324668884, 0.28946053981781006, -0.3755081593990326]]\n"
     ]
    }
   ],
   "source": [
    "# run the model on the input text\n",
    "device = torch.device('cuda' if torch.cuda.is_available() else 'cpu')\n",
    "model = model.to(device)\n",
    "print(f\"using device: {device}\")\n",
    "\n",
    "with torch.no_grad():\n",
    "    output = model(torch.tensor(input_ids).to(device).unsqueeze(0), \n",
    "                   torch.tensor(attention_masks).to(device).unsqueeze(0))\n",
    "    \n",
    "    print(f\"predicted playlist score: {output.tolist()}\")"
   ]
  },
  {
   "cell_type": "code",
   "execution_count": 33,
   "metadata": {},
   "outputs": [],
   "source": [
    "# define functions that have more generatlized use\n",
    "\n",
    "import torch\n",
    "from torch.utils.data import TensorDataset, DataLoader\n",
    "\n",
    "def predict(model, dataloader, device):\n",
    "    model.eval()\n",
    "    output = []\n",
    "    for batch in dataloader:\n",
    "        batch_inputs, batch_masks = \\\n",
    "                                  tuple(b.to(device) for b in batch)\n",
    "        with torch.no_grad():\n",
    "            output += model(batch_inputs, \n",
    "                            batch_masks).tolist()\n",
    "    return output\n",
    "\n",
    "\n",
    "def create_dataloaders(inputs, masks, batch_size=13):\n",
    "    input_tensor = torch.tensor(inputs)\n",
    "    mask_tensor = torch.tensor(masks)\n",
    "    dataset = TensorDataset(input_tensor, mask_tensor)\n",
    "    dataloader = DataLoader(dataset, batch_size=batch_size, shuffle=True)\n",
    "    \n",
    "    return dataloader\n",
    "\n",
    "\n",
    "def prepare_inputs(playlist_names, tokenizer):\n",
    "    encoded_playlist_names = tokenizer(text = playlist_names, \n",
    "                                       add_special_tokens=True,\n",
    "                                       padding = 'max_length',\n",
    "                                       truncation = 'longest_first',\n",
    "                                       max_length = 300,\n",
    "                                       return_attention_mask = True)\n",
    "    \n",
    "    input_ids = encoded_playlist_names['input_ids']\n",
    "    attention_masks = encoded_playlist_names['attention_mask']\n",
    "    \n",
    "    return input_ids, attention_masks"
   ]
  },
  {
   "cell_type": "code",
   "execution_count": 34,
   "metadata": {},
   "outputs": [
    {
     "name": "stdout",
     "output_type": "stream",
     "text": [
      "predicted playlist scores: \n",
      "chill rap mix: [1.583203673362732, 0.07741276174783707, -0.6467263698577881, -1.691370964050293, 1.3265907764434814, 0.06018896400928497, -1.2053993940353394, -1.211018681526184, -0.01895637810230255, -0.5510643720626831, -1.0612151622772217, -0.8414212465286255, -0.3889871835708618]\n",
      "coffee shop: [-0.7125457525253296, 1.0681607723236084, -0.2963963747024536, 0.22406548261642456, -0.47823041677474976, -0.41923460364341736, 0.4840065538883209, 0.42777150869369507, -0.23099486529827118, 1.988478422164917, 0.9496800899505615, 0.7885478138923645, -0.3059929609298706]\n",
      "aggressive rap and drill: [-0.29510995745658875, 0.941478967666626, -0.2874526381492615, -0.05669371038675308, -0.4419631361961365, 0.2741410434246063, 0.1859968602657318, 0.23342745006084442, -0.9475931525230408, 1.5186402797698975, -0.07284444570541382, 0.48750314116477966, -0.27869996428489685]\n"
     ]
    }
   ],
   "source": [
    "songs = [\"chill rap mix\", \"coffee shop\", \"aggressive rap and drill\"]\n",
    "input_ids, attention_masks = prepare_inputs(songs, tokenizer)\n",
    "dataloader = create_dataloaders(input_ids, attention_masks)\n",
    "prediction = predict(model, dataloader, device)\n",
    "\n",
    "print(\"predicted playlist scores: \")\n",
    "for idx, song in enumerate(songs):\n",
    "    print(f\"{song}: {prediction[idx]}\")\n"
   ]
  },
  {
   "cell_type": "code",
   "execution_count": 36,
   "metadata": {},
   "outputs": [
    {
     "name": "stdout",
     "output_type": "stream",
     "text": [
      "predicted playlist scores: \n",
      "coffee shop: [1.583203673362732, 0.07741276174783707, -0.6467263698577881, -1.691370964050293, 1.3265907764434814, 0.06018896400928497, -1.2053993940353394, -1.211018681526184, -0.01895637810230255, -0.5510643720626831, -1.0612151622772217, -0.8414212465286255, -0.3889871835708618]\n"
     ]
    }
   ],
   "source": [
    "songs = [\"coffee shop\"]\n",
    "input_ids, attention_masks = prepare_inputs(songs, tokenizer)\n",
    "dataloader = create_dataloaders(input_ids, attention_masks)\n",
    "\n",
    "print(\"predicted playlist scores: \")\n",
    "for idx, song in enumerate(songs):\n",
    "    print(f\"{song}: {prediction[idx]}\")"
   ]
  }
 ],
 "metadata": {
  "kernelspec": {
   "display_name": "env",
   "language": "python",
   "name": "python3"
  },
  "language_info": {
   "codemirror_mode": {
    "name": "ipython",
    "version": 3
   },
   "file_extension": ".py",
   "mimetype": "text/x-python",
   "name": "python",
   "nbconvert_exporter": "python",
   "pygments_lexer": "ipython3",
   "version": "3.11.0"
  }
 },
 "nbformat": 4,
 "nbformat_minor": 2
}
