{
 "cells": [
  {
   "cell_type": "code",
   "execution_count": 1,
   "metadata": {},
   "outputs": [
    {
     "name": "stderr",
     "output_type": "stream",
     "text": [
      "c:\\Users\\Nemsun\\AppData\\Local\\Programs\\Python\\Python311\\Lib\\site-packages\\tqdm\\auto.py:21: TqdmWarning: IProgress not found. Please update jupyter and ipywidgets. See https://ipywidgets.readthedocs.io/en/stable/user_install.html\n",
      "  from .autonotebook import tqdm as notebook_tqdm\n"
     ]
    }
   ],
   "source": [
    "import torch\n",
    "from transformers import BertTokenizer\n",
    "from BertRegressor import BertRegressor"
   ]
  },
  {
   "cell_type": "code",
   "execution_count": 2,
   "metadata": {},
   "outputs": [
    {
     "data": {
      "text/plain": [
       "BertRegressor(\n",
       "  (bert): BertModel(\n",
       "    (embeddings): BertEmbeddings(\n",
       "      (word_embeddings): Embedding(30522, 768, padding_idx=0)\n",
       "      (position_embeddings): Embedding(512, 768)\n",
       "      (token_type_embeddings): Embedding(2, 768)\n",
       "      (LayerNorm): LayerNorm((768,), eps=1e-12, elementwise_affine=True)\n",
       "      (dropout): Dropout(p=0.1, inplace=False)\n",
       "    )\n",
       "    (encoder): BertEncoder(\n",
       "      (layer): ModuleList(\n",
       "        (0-11): 12 x BertLayer(\n",
       "          (attention): BertAttention(\n",
       "            (self): BertSelfAttention(\n",
       "              (query): Linear(in_features=768, out_features=768, bias=True)\n",
       "              (key): Linear(in_features=768, out_features=768, bias=True)\n",
       "              (value): Linear(in_features=768, out_features=768, bias=True)\n",
       "              (dropout): Dropout(p=0.1, inplace=False)\n",
       "            )\n",
       "            (output): BertSelfOutput(\n",
       "              (dense): Linear(in_features=768, out_features=768, bias=True)\n",
       "              (LayerNorm): LayerNorm((768,), eps=1e-12, elementwise_affine=True)\n",
       "              (dropout): Dropout(p=0.1, inplace=False)\n",
       "            )\n",
       "          )\n",
       "          (intermediate): BertIntermediate(\n",
       "            (dense): Linear(in_features=768, out_features=3072, bias=True)\n",
       "            (intermediate_act_fn): GELUActivation()\n",
       "          )\n",
       "          (output): BertOutput(\n",
       "            (dense): Linear(in_features=3072, out_features=768, bias=True)\n",
       "            (LayerNorm): LayerNorm((768,), eps=1e-12, elementwise_affine=True)\n",
       "            (dropout): Dropout(p=0.1, inplace=False)\n",
       "          )\n",
       "        )\n",
       "      )\n",
       "    )\n",
       "    (pooler): BertPooler(\n",
       "      (dense): Linear(in_features=768, out_features=768, bias=True)\n",
       "      (activation): Tanh()\n",
       "    )\n",
       "  )\n",
       "  (regressor): Sequential(\n",
       "    (0): Dropout(p=0.2, inplace=False)\n",
       "    (1): Linear(in_features=768, out_features=13, bias=True)\n",
       "  )\n",
       ")"
      ]
     },
     "execution_count": 2,
     "metadata": {},
     "output_type": "execute_result"
    }
   ],
   "source": [
    "# Define the model architecture and load the trained weights\n",
    "\n",
    "model = BertRegressor()\n",
    "model.load_state_dict(torch.load('bert_model.pt'))\n",
    "model.eval()"
   ]
  },
  {
   "cell_type": "code",
   "execution_count": 3,
   "metadata": {},
   "outputs": [],
   "source": [
    "# Load the tokenizer and tokenize the input text\n",
    "\n",
    "tokenizer = BertTokenizer.from_pretrained('bert-base-uncased')\n",
    "\n",
    "playlist_name = \"chill rab mix\"\n",
    "encoded_playlist_name = tokenizer(text = playlist_name, \n",
    "                           add_special_tokens=True,\n",
    "                           padding = 'max_length',\n",
    "                           truncation = 'longest_first',\n",
    "                           max_length = 300,\n",
    "                           return_attention_mask = True)\n",
    "\n",
    "input_ids = encoded_playlist_name['input_ids']\n",
    "attention_masks = encoded_playlist_name['attention_mask']"
   ]
  },
  {
   "cell_type": "code",
   "execution_count": 4,
   "metadata": {},
   "outputs": [
    {
     "name": "stdout",
     "output_type": "stream",
     "text": [
      "using device: cuda\n",
      "predicted playlist score: [[0.38439199328422546, 0.3246513307094574, -0.129065603017807, -0.6882642507553101, -0.04229501262307167, 0.10190823674201965, -0.5402419567108154, -0.17356836795806885, -1.2401353120803833, 0.4679490923881531, -0.8906165361404419, 0.11346378922462463, -0.7855994701385498]]\n"
     ]
    }
   ],
   "source": [
    "# run the model on the input text\n",
    "device = torch.device('cuda' if torch.cuda.is_available() else 'cpu')\n",
    "model = model.to(device)\n",
    "print(f\"using device: {device}\")\n",
    "\n",
    "with torch.no_grad():\n",
    "    output = model(torch.tensor(input_ids).to(device).unsqueeze(0), \n",
    "                   torch.tensor(attention_masks).to(device).unsqueeze(0))\n",
    "    \n",
    "    print(f\"predicted playlist score: {output.tolist()}\")"
   ]
  },
  {
   "cell_type": "code",
   "execution_count": 6,
   "metadata": {},
   "outputs": [],
   "source": [
    "# define functions that have more generatlized use\n",
    "\n",
    "import torch\n",
    "from torch.utils.data import TensorDataset, DataLoader\n",
    "\n",
    "def predict(model, dataloader, device):\n",
    "    model.eval()\n",
    "    output = []\n",
    "    for batch in dataloader:\n",
    "        batch_inputs, batch_masks = \\\n",
    "                                  tuple(b.to(device) for b in batch)\n",
    "        with torch.no_grad():\n",
    "            output += model(batch_inputs, \n",
    "                            batch_masks).tolist()\n",
    "    return output\n",
    "\n",
    "\n",
    "def create_dataloaders(inputs, masks, batch_size=13):\n",
    "    input_tensor = torch.tensor(inputs)\n",
    "    mask_tensor = torch.tensor(masks)\n",
    "    dataset = TensorDataset(input_tensor, mask_tensor)\n",
    "    dataloader = DataLoader(dataset, batch_size=batch_size, shuffle=True)\n",
    "    \n",
    "    return dataloader\n",
    "\n",
    "\n",
    "def prepare_inputs(playlist_names, tokenizer):\n",
    "    encoded_playlist_names = tokenizer(text = playlist_names, \n",
    "                                       add_special_tokens=True,\n",
    "                                       padding = 'max_length',\n",
    "                                       truncation = 'longest_first',\n",
    "                                       max_length = 300,\n",
    "                                       return_attention_mask = True)\n",
    "    \n",
    "    input_ids = encoded_playlist_names['input_ids']\n",
    "    attention_masks = encoded_playlist_names['attention_mask']\n",
    "    \n",
    "    return input_ids, attention_masks"
   ]
  },
  {
   "cell_type": "code",
   "execution_count": 7,
   "metadata": {},
   "outputs": [
    {
     "name": "stdout",
     "output_type": "stream",
     "text": [
      "predicted playlist scores: \n",
      "chill rap mix: [-0.13857638835906982, 0.8016530275344849, -0.04099654033780098, -0.3614689111709595, -0.3748628795146942, -0.00996387843042612, 0.02088908851146698, 0.07665769755840302, -1.0320204496383667, 1.6485298871994019, -0.17494386434555054, 0.4433545768260956, -0.7561355233192444]\n",
      "coffee shop: [1.4801605939865112, -0.041393179446458817, -0.6346140503883362, -1.6483286619186401, 1.4928240776062012, -0.20013530552387238, -1.2966294288635254, -1.089979887008667, -0.2973755896091461, -0.586452305316925, -1.0738660097122192, -0.28506624698638916, -0.4973054528236389]\n",
      "aggressive rap and drill: [-0.5884665250778198, 1.2944731712341309, -0.5323115587234497, 0.1520185023546219, -0.6506642699241638, -0.29961204528808594, 0.6092473268508911, 0.5144625902175903, -0.21855659782886505, 2.3652360439300537, 0.8908799290657043, 0.7016943693161011, -0.0943540707230568]\n"
     ]
    }
   ],
   "source": [
    "songs = [\"chill rap mix\", \"coffee shop\", \"aggressive rap and drill\"]\n",
    "input_ids, attention_masks = prepare_inputs(songs, tokenizer)\n",
    "dataloader = create_dataloaders(input_ids, attention_masks)\n",
    "prediction = predict(model, dataloader, device)\n",
    "\n",
    "print(\"predicted playlist scores: \")\n",
    "for idx, song in enumerate(songs):\n",
    "    print(f\"{song}: {prediction[idx]}\")\n"
   ]
  },
  {
   "cell_type": "code",
   "execution_count": 8,
   "metadata": {},
   "outputs": [
    {
     "name": "stdout",
     "output_type": "stream",
     "text": [
      "predicted playlist scores: \n",
      "coffee shop: [-0.13857638835906982, 0.8016530275344849, -0.04099654033780098, -0.3614689111709595, -0.3748628795146942, -0.00996387843042612, 0.02088908851146698, 0.07665769755840302, -1.0320204496383667, 1.6485298871994019, -0.17494386434555054, 0.4433545768260956, -0.7561355233192444]\n"
     ]
    }
   ],
   "source": [
    "songs = [\"coffee shop\"]\n",
    "input_ids, attention_masks = prepare_inputs(songs, tokenizer)\n",
    "dataloader = create_dataloaders(input_ids, attention_masks)\n",
    "\n",
    "print(\"predicted playlist scores: \")\n",
    "for idx, song in enumerate(songs):\n",
    "    print(f\"{song}: {prediction[idx]}\")"
   ]
  }
 ],
 "metadata": {
  "kernelspec": {
   "display_name": "env",
   "language": "python",
   "name": "python3"
  },
  "language_info": {
   "codemirror_mode": {
    "name": "ipython",
    "version": 3
   },
   "file_extension": ".py",
   "mimetype": "text/x-python",
   "name": "python",
   "nbconvert_exporter": "python",
   "pygments_lexer": "ipython3",
   "version": "3.11.6"
  }
 },
 "nbformat": 4,
 "nbformat_minor": 2
}
